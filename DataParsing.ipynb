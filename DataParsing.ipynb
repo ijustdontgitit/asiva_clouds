{
 "cells": [
  {
   "cell_type": "code",
   "execution_count": null,
   "id": "ad2a3835",
   "metadata": {},
   "outputs": [],
   "source": [
    "\"\"\"\n",
    "Methodology:\n",
    "loop through timestamps of skyprobe measurements, for each one find a timestamp in the telescope data within +/- 1 \n",
    "minute as well as an ASIVA image with a timestamp within +/- 1 minute. \n",
    "output a csv file with 5 columns as follows:\n",
    "1 - skyprobe timestamp\n",
    "2 - Skyprobe attenuation\n",
    "3 - telescope Az\n",
    "4 - Telescope Alt\n",
    "5 - ASIVA Image Filename\n",
    "\"\"\""
   ]
  },
  {
   "cell_type": "code",
   "execution_count": null,
   "id": "9f0df792",
   "metadata": {},
   "outputs": [],
   "source": [
    "\"\"\"File Parsing:\n",
    "Skyprobe Data:\n",
    "Column 1: Time in UNIX EPOCH\n",
    "Column 4: Zeropoint (Attenuation)\n",
    "\n",
    "Telescope Data:\n",
    "Column 1: Time in UNIX Epoch\n",
    "Column 2: Alt\n",
    "Column 3: Az\n",
    "\n",
    "ASIVA Images:\n",
    "naming example: asiva202301251900.png\n",
    "naming format: asivaYYYYMMDDHHMM\n",
    "HH in military time\n",
    "\"\"\""
   ]
  },
  {
   "cell_type": "code",
   "execution_count": 45,
   "id": "5e5b725d",
   "metadata": {},
   "outputs": [
    {
     "name": "stdout",
     "output_type": "stream",
     "text": [
      "<bound method NDFrame.head of                Time  attenuation      Alt        Az\n",
      "0        1274851510        0.107  89.8103  279.5074\n",
      "1        1274851809        0.155  67.7496   80.3481\n",
      "2        1274851870        0.144  67.7496   80.3481\n",
      "3        1274851929        0.559  67.7496   80.3481\n",
      "4        1274851989        0.121  67.7496   80.3481\n",
      "...             ...          ...      ...       ...\n",
      "2125491  1694792290       -0.108  64.9583   48.1660\n",
      "2125492  1694792350        0.151  64.9213   48.1046\n",
      "2125493  1694792407       -0.183  64.8382   48.1806\n",
      "2125494  1694792470        0.004  65.0426   47.9788\n",
      "2125495  1694793600        0.004  64.9767   48.1581\n",
      "\n",
      "[1647649 rows x 4 columns]>\n"
     ]
    }
   ],
   "source": [
    "import pandas as pd\n",
    "\n",
    "\n",
    "DF_skyprobe = pd.read_csv(\"skyprobe_data.csv\", low_memory=False)\n",
    "DF_skyprobe.columns = ['Time', 'skip1', 'skip2', 'attenuation', 'skip3', 'skip4']\n",
    "DF_skyprobe = DF_skyprobe.drop(columns = ['skip1', 'skip2', 'skip3', 'skip4'])\n",
    "DF_telescope = pd.read_csv(\"tcs_data.csv\", low_memory=False)\n",
    "DF_telescope.columns = ['Time', 'Alt', 'Az', 'skip']\n",
    "DF_telescope = DF_telescope.drop(columns = ['skip'])\n",
    "DF = pd.merge_asof(DF_skyprobe, DF_telescope, on = \"Time\", direction=\"nearest\", tolerance=60)\n",
    "DF = DF.dropna()\n",
    "print(DF.head)\n",
    "\n",
    "\n"
   ]
  },
  {
   "cell_type": "code",
   "execution_count": 46,
   "id": "49d2a30c",
   "metadata": {},
   "outputs": [
    {
     "name": "stdout",
     "output_type": "stream",
     "text": [
      "<bound method NDFrame.head of             Time                        filenames\n",
      "1409  1674698400  ../images/asiva202301251900.png\n",
      "1442  1674698460  ../images/asiva202301251901.png\n",
      "1251  1674698520  ../images/asiva202301251902.png\n",
      "1208  1674698580  ../images/asiva202301251903.png\n",
      "868   1674698640  ../images/asiva202301251904.png\n",
      "...          ...                              ...\n",
      "247   1687949700  ../images/asiva202306280355.png\n",
      "75    1687949760  ../images/asiva202306280356.png\n",
      "107   1687949820  ../images/asiva202306280357.png\n",
      "2742  1687949880  ../images/asiva202306280358.png\n",
      "2701  1687949940  ../images/asiva202306280359.png\n",
      "\n",
      "[2999 rows x 2 columns]>\n"
     ]
    }
   ],
   "source": [
    "#we now have a combined dataset of skyprobe data with corresponding Alt and Az values.\n",
    "#Now we need to find ASIVA images with close timestamps and add the filenames to the dataframe\n",
    "import glob\n",
    "\n",
    "folder = \"../images\"\n",
    "filenames = []\n",
    "timestamps = []\n",
    "for file in glob.glob(folder + '/*.png'):\n",
    "    filedate = file.split('/')[2].split('asiva')[1].split('.')[-2]\n",
    "    timestamp = datetime.timestamp(datetime.strptime(filedate, '%Y%m%d%H%M'))\n",
    "    filenames.append(file)\n",
    "    timestamps.append(int(timestamp))\n",
    "    #convert filedate/time to UNIX. Add 10 hours for converting HST to UTC\n",
    "DF_ASIVA = pd.DataFrame(timestamps)\n",
    "DF_ASIVA.columns = [\"Time\"]\n",
    "DF_ASIVA[\"filenames\"] = filenames\n",
    "DF_ASIVA = DF_ASIVA.sort_values(by=\"Time\")\n",
    "print(DF_ASIVA.head)\n"
   ]
  },
  {
   "cell_type": "code",
   "execution_count": 47,
   "id": "38282db8",
   "metadata": {},
   "outputs": [
    {
     "name": "stdout",
     "output_type": "stream",
     "text": [
      "<bound method NDFrame.head of                Time  attenuation      Alt        Az  \\\n",
      "1580413  1674709930        2.621  66.4844  323.4849   \n",
      "1594348  1681794911        0.667  87.9959  268.2851   \n",
      "1594349  1681795030        0.379  89.1985  237.2593   \n",
      "1594350  1681795090        0.342  89.1985  255.5949   \n",
      "1594351  1681795150        0.387  89.1985  260.8347   \n",
      "...             ...          ...      ...       ...   \n",
      "1616200  1687949712        0.049  70.0681  324.3404   \n",
      "1616201  1687949772        0.033  70.0681  324.3404   \n",
      "1616202  1687949890        0.045  70.0681  323.3369   \n",
      "1616203  1687949952        0.042  70.0681  323.3369   \n",
      "1616204  1687950000        0.042  70.0681  323.3369   \n",
      "\n",
      "                               filenames  \n",
      "1580413  ../images/asiva202301252212.png  \n",
      "1594348  ../images/asiva202304172215.png  \n",
      "1594349  ../images/asiva202304172217.png  \n",
      "1594350  ../images/asiva202304172218.png  \n",
      "1594351  ../images/asiva202304172219.png  \n",
      "...                                  ...  \n",
      "1616200  ../images/asiva202306280355.png  \n",
      "1616201  ../images/asiva202306280356.png  \n",
      "1616202  ../images/asiva202306280358.png  \n",
      "1616203  ../images/asiva202306280359.png  \n",
      "1616204  ../images/asiva202306280359.png  \n",
      "\n",
      "[748 rows x 5 columns]>\n"
     ]
    }
   ],
   "source": [
    "#perform another merge_asof to add asiva filenames to the main dataframe\n",
    "DF = pd.merge_asof(DF, DF_ASIVA, on = \"Time\", direction=\"nearest\", tolerance=60)\n",
    "DF = DF.dropna()\n",
    "print(DF.head)"
   ]
  },
  {
   "cell_type": "code",
   "execution_count": null,
   "id": "0abcfb7b",
   "metadata": {},
   "outputs": [],
   "source": [
    "\"\"\"\n",
    "Now need to find the location within each ASIVA image and save a 12x12 kernel surrounding that location\n",
    "along with a corresponding attenuation value\n",
    "\"\"\""
   ]
  }
 ],
 "metadata": {
  "kernelspec": {
   "display_name": "Python 3 (ipykernel)",
   "language": "python",
   "name": "python3"
  },
  "language_info": {
   "codemirror_mode": {
    "name": "ipython",
    "version": 3
   },
   "file_extension": ".py",
   "mimetype": "text/x-python",
   "name": "python",
   "nbconvert_exporter": "python",
   "pygments_lexer": "ipython3",
   "version": "3.7.2"
  }
 },
 "nbformat": 4,
 "nbformat_minor": 5
}
